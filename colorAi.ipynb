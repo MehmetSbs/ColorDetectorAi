{
 "cells": [
  {
   "cell_type": "code",
   "execution_count": 1,
   "metadata": {},
   "outputs": [],
   "source": [
    "import os\n",
    "os.environ[\"TF_CPP_MIN_LOG_LEVEL\"] = \"2\""
   ]
  },
  {
   "cell_type": "code",
   "execution_count": 2,
   "metadata": {},
   "outputs": [],
   "source": [
    "import matplotlib.pyplot as plt"
   ]
  },
  {
   "cell_type": "code",
   "execution_count": 3,
   "metadata": {},
   "outputs": [],
   "source": [
    "import numpy as np"
   ]
  },
  {
   "cell_type": "code",
   "execution_count": 4,
   "metadata": {},
   "outputs": [],
   "source": [
    "import tensorflow as tf"
   ]
  },
  {
   "cell_type": "code",
   "execution_count": 5,
   "metadata": {},
   "outputs": [],
   "source": [
    "img_height = 150\n",
    "img_width = 150\n",
    "batch_size = 1"
   ]
  },
  {
   "cell_type": "code",
   "execution_count": 6,
   "metadata": {},
   "outputs": [],
   "source": [
    "model = tf.keras.Sequential([\n",
    "    tf.keras.layers.Input((150,150,3)),\n",
    "    tf.keras.layers.Flatten(),\n",
    "    tf.keras.layers.Dense(12, activation='relu'),\n",
    "    tf.keras.layers.Dense(3, activation= 'softmax')\n",
    "])"
   ]
  },
  {
   "cell_type": "code",
   "execution_count": 7,
   "metadata": {},
   "outputs": [
    {
     "name": "stdout",
     "output_type": "stream",
     "text": [
      "Found 75 files belonging to 3 classes.\n",
      "Using 60 files for training.\n",
      "Found 75 files belonging to 3 classes.\n",
      "Using 15 files for validation.\n",
      "Found 75 files belonging to 3 classes.\n"
     ]
    }
   ],
   "source": [
    "ds_train = tf.keras.preprocessing.image_dataset_from_directory(\n",
    "    'ColorDataSet',\n",
    "    labels='inferred',\n",
    "    label_mode='int',\n",
    "    color_mode='rgb',\n",
    "    batch_size= batch_size,\n",
    "    image_size=(img_height, img_width),\n",
    "    shuffle= True,\n",
    "    seed = 4,\n",
    "    validation_split= 0.2,\n",
    "    subset = \"training\"\n",
    ")\n",
    "\n",
    "ds_validation = tf.keras.preprocessing.image_dataset_from_directory(\n",
    "    'ColorDataSet',\n",
    "    labels='inferred',\n",
    "    label_mode='int',\n",
    "    color_mode='rgb',\n",
    "    batch_size= batch_size,\n",
    "    image_size=(img_height, img_width),\n",
    "    shuffle= True,\n",
    "    seed = 4,\n",
    "    validation_split= 0.2,\n",
    "    subset = \"validation\"\n",
    ")\n",
    "\n",
    "ds_test = tf.keras.preprocessing.image_dataset_from_directory(\n",
    "    'ColorDataSet',\n",
    "    labels='inferred',\n",
    "    label_mode='int',\n",
    "    color_mode='rgb',\n",
    "    batch_size= batch_size,\n",
    "    image_size=(img_height, img_width),\n",
    "    shuffle= True,\n",
    "    seed = 4\n",
    ")"
   ]
  },
  {
   "cell_type": "code",
   "execution_count": 8,
   "metadata": {},
   "outputs": [],
   "source": [
    "normalization_layer = tf.keras.layers.Rescaling(1./255)"
   ]
  },
  {
   "cell_type": "code",
   "execution_count": 9,
   "metadata": {},
   "outputs": [],
   "source": [
    "ds_train = ds_train.map(lambda x, y: (normalization_layer(x), y))\n",
    "ds_validation= ds_validation.map(lambda x, y: (normalization_layer(x), y))\n",
    "ds_test= ds_test.map(lambda x, y: (normalization_layer(x), y))"
   ]
  },
  {
   "cell_type": "code",
   "execution_count": 10,
   "metadata": {},
   "outputs": [],
   "source": [
    "model.compile(\n",
    "    optimizer= tf.keras.optimizers.Adam(),\n",
    "    loss=[tf.keras.losses.SparseCategoricalCrossentropy()],\n",
    "    metrics=[\"accuracy\"]\n",
    ")"
   ]
  },
  {
   "cell_type": "code",
   "execution_count": 11,
   "metadata": {},
   "outputs": [
    {
     "name": "stdout",
     "output_type": "stream",
     "text": [
      "Epoch 1/10\n",
      "60/60 [==============================] - 2s 20ms/step - loss: 0.4117 - accuracy: 0.8333 - val_loss: 0.5731 - val_accuracy: 1.0000\n",
      "Epoch 2/10\n",
      "60/60 [==============================] - 1s 19ms/step - loss: 0.2983 - accuracy: 1.0000 - val_loss: 0.5529 - val_accuracy: 1.0000\n",
      "Epoch 3/10\n",
      "60/60 [==============================] - 1s 22ms/step - loss: 0.2877 - accuracy: 1.0000 - val_loss: 0.5332 - val_accuracy: 1.0000\n",
      "Epoch 4/10\n",
      "60/60 [==============================] - 1s 21ms/step - loss: 0.2772 - accuracy: 1.0000 - val_loss: 0.5132 - val_accuracy: 1.0000\n",
      "Epoch 5/10\n",
      "60/60 [==============================] - 1s 21ms/step - loss: 0.2672 - accuracy: 1.0000 - val_loss: 0.4938 - val_accuracy: 1.0000\n",
      "Epoch 6/10\n",
      "60/60 [==============================] - 1s 18ms/step - loss: 0.2570 - accuracy: 1.0000 - val_loss: 0.4758 - val_accuracy: 1.0000\n",
      "Epoch 7/10\n",
      "60/60 [==============================] - 1s 19ms/step - loss: 0.2474 - accuracy: 1.0000 - val_loss: 0.4579 - val_accuracy: 1.0000\n",
      "Epoch 8/10\n",
      "60/60 [==============================] - 1s 19ms/step - loss: 0.2380 - accuracy: 1.0000 - val_loss: 0.4398 - val_accuracy: 1.0000\n",
      "Epoch 9/10\n",
      "60/60 [==============================] - 1s 20ms/step - loss: 0.2288 - accuracy: 1.0000 - val_loss: 0.4231 - val_accuracy: 1.0000\n",
      "Epoch 10/10\n",
      "60/60 [==============================] - 1s 20ms/step - loss: 0.2200 - accuracy: 1.0000 - val_loss: 0.4074 - val_accuracy: 1.0000\n"
     ]
    }
   ],
   "source": [
    "history = model.fit(ds_train, epochs=10, validation_data= ds_validation)"
   ]
  },
  {
   "cell_type": "code",
   "execution_count": 12,
   "metadata": {},
   "outputs": [],
   "source": [
    "class_names = [\"Blue\", \"Green\", \"Red\"]"
   ]
  },
  {
   "cell_type": "code",
   "execution_count": 13,
   "metadata": {},
   "outputs": [],
   "source": [
    "def plot_image(i, predictions_array, true_labels, images):\n",
    "  predictions_array, true_label, img = predictions_array[i], true_labels[i], images[i]\n",
    "  plt.grid(False)\n",
    "  plt.xticks([])\n",
    "  plt.yticks([])\n",
    "  \n",
    "  plt.imshow(img[...,0], cmap=plt.cm.binary)\n",
    "\n",
    "  predicted_label = np.argmax(predictions_array)\n",
    "  if predicted_label == true_label:\n",
    "    color = 'blue'\n",
    "  else:\n",
    "    color = 'red'\n",
    "  \n",
    "  plt.xlabel(\"{} {:2.0f}% ({})\".format(class_names[predicted_label],\n",
    "                                100*np.max(predictions_array),\n",
    "                                class_names[true_label]),\n",
    "                                color=color)\n",
    "\n",
    "def plot_value_array(i, predictions_array, true_label):\n",
    "  predictions_array, true_label = predictions_array[i], true_label[i]\n",
    "  plt.grid(False)\n",
    "  plt.xticks([])\n",
    "  plt.yticks([])\n",
    "  thisplot = plt.bar(range(3), predictions_array, color=\"#777777\")\n",
    "  plt.ylim([0, 1])\n",
    "  predicted_label = np.argmax(predictions_array)\n",
    "  \n",
    "  thisplot[predicted_label].set_color('red')\n",
    "  thisplot[true_label].set_color('blue')"
   ]
  },
  {
   "cell_type": "code",
   "execution_count": 20,
   "metadata": {},
   "outputs": [
    {
     "name": "stdout",
     "output_type": "stream",
     "text": [
      "1/1 [==============================] - 0s 18ms/step\n",
      "1/1 [==============================] - 0s 24ms/step\n",
      "1/1 [==============================] - 0s 24ms/step\n",
      "1/1 [==============================] - 0s 24ms/step\n",
      "1/1 [==============================] - 0s 22ms/step\n",
      "1/1 [==============================] - 0s 25ms/step\n",
      "1/1 [==============================] - 0s 20ms/step\n"
     ]
    }
   ],
   "source": [
    "for test_images, test_labels in ds_test.take(7):\n",
    "  test_images = test_images.numpy()\n",
    "  test_labels = test_labels.numpy()\n",
    "  predictions = model.predict(test_images)\n"
   ]
  },
  {
   "cell_type": "code",
   "execution_count": 21,
   "metadata": {},
   "outputs": [
    {
     "name": "stdout",
     "output_type": "stream",
     "text": [
      "[1.1177468e-26 1.0000000e+00 0.0000000e+00]\n",
      "1\n",
      "1\n"
     ]
    }
   ],
   "source": [
    "print(predictions[0])\n",
    "print(np.argmax(predictions[0]))\n",
    "print(test_labels[0])"
   ]
  },
  {
   "cell_type": "code",
   "execution_count": 22,
   "metadata": {},
   "outputs": [
    {
     "data": {
      "image/png": "[encoded data removed]",
      "text/plain": [
       "<Figure size 600x300 with 2 Axes>"
      ]
     },
     "metadata": {},
     "output_type": "display_data"
    }
   ],
   "source": [
    "i = 0\n",
    "plt.figure(figsize=(6,3))\n",
    "plt.subplot(1,2,1)\n",
    "plot_image(i, predictions, test_labels, test_images)\n",
    "plt.subplot(1,2,2)\n",
    "plot_value_array(i, predictions, test_labels)"
   ]
  }
 ],
 "metadata": {
  "kernelspec": {
   "display_name": "Python 3",
   "language": "python",
   "name": "python3"
  },
  "language_info": {
   "codemirror_mode": {
    "name": "ipython",
    "version": 3
   },
   "file_extension": ".py",
   "mimetype": "text/x-python",
   "name": "python",
   "nbconvert_exporter": "python",
   "pygments_lexer": "ipython3",
   "version": "3.11.1"
  },
  "orig_nbformat": 4
 },
 "nbformat": 4,
 "nbformat_minor": 2
}
